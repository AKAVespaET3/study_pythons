{
  "nbformat": 4,
  "nbformat_minor": 0,
  "metadata": {
    "colab": {
      "provenance": [],
      "authorship_tag": "ABX9TyO4l79b8HV6/jJ0eNwg4ZMc",
      "include_colab_link": true
    },
    "kernelspec": {
      "name": "python3",
      "display_name": "Python 3"
    },
    "language_info": {
      "name": "python"
    }
  },
  "cells": [
    {
      "cell_type": "markdown",
      "metadata": {
        "id": "view-in-github",
        "colab_type": "text"
      },
      "source": [
        "<a href=\"https://colab.research.google.com/github/AKAVespaET3/toy_pythons/blob/main/While_Goni.ipynb\" target=\"_parent\"><img src=\"https://colab.research.google.com/assets/colab-badge.svg\" alt=\"Open In Colab\"/></a>"
      ]
    },
    {
      "cell_type": "code",
      "execution_count": 22,
      "metadata": {
        "id": "hxEJHmTTXUiI"
      },
      "outputs": [],
      "source": [
        "first = 1"
      ]
    },
    {
      "cell_type": "code",
      "source": [
        "while first < 4 :\n",
        "  print(first)\n",
        "  print(\"in whiling\")\n",
        "  first = first + 1\n",
        "print(\"END\")"
      ],
      "metadata": {
        "colab": {
          "base_uri": "https://localhost:8080/"
        },
        "id": "yfg2l0PpesFZ",
        "outputId": "518aa9fe-2adf-40d4-b247-b11be1ac63d6"
      },
      "execution_count": 23,
      "outputs": [
        {
          "output_type": "stream",
          "name": "stdout",
          "text": [
            "1\n",
            "in whiling\n",
            "2\n",
            "in whiling\n",
            "3\n",
            "in whiling\n",
            "END\n"
          ]
        }
      ]
    },
    {
      "cell_type": "markdown",
      "source": [
        "# 두 번째 입력을 합니다."
      ],
      "metadata": {
        "id": "5znO7sE5mXt9"
      }
    },
    {
      "cell_type": "code",
      "source": [
        "second = 1"
      ],
      "metadata": {
        "id": "DNAjVvZLjBsg"
      },
      "execution_count": 27,
      "outputs": []
    },
    {
      "cell_type": "code",
      "source": [
        "while second < 5 :\n",
        "    print(second)\n",
        "    print(\"whiling\")\n",
        "    second = second + 1\n",
        "\n",
        "print(second)"
      ],
      "metadata": {
        "colab": {
          "base_uri": "https://localhost:8080/"
        },
        "id": "451Goj5WjFUE",
        "outputId": "4fd75069-01bb-4d14-e4c5-be28dfd3ac57"
      },
      "execution_count": 28,
      "outputs": [
        {
          "output_type": "stream",
          "name": "stdout",
          "text": [
            "1\n",
            "whiling\n",
            "2\n",
            "whiling\n",
            "3\n",
            "whiling\n",
            "4\n",
            "whiling\n",
            "5\n"
          ]
        }
      ]
    }
  ]
}