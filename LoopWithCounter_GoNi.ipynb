{
  "nbformat": 4,
  "nbformat_minor": 0,
  "metadata": {
    "colab": {
      "provenance": [],
      "authorship_tag": "ABX9TyMuemOMNcao7XCVcedkGA9t",
      "include_colab_link": true
    },
    "kernelspec": {
      "name": "python3",
      "display_name": "Python 3"
    },
    "language_info": {
      "name": "python"
    }
  },
  "cells": [
    {
      "cell_type": "markdown",
      "metadata": {
        "id": "view-in-github",
        "colab_type": "text"
      },
      "source": [
        "<a href=\"https://colab.research.google.com/github/AKAVespaET3/toy_pythons/blob/main/LoopWithCounter_GoNi.ipynb\" target=\"_parent\"><img src=\"https://colab.research.google.com/assets/colab-badge.svg\" alt=\"Open In Colab\"/></a>"
      ]
    },
    {
      "cell_type": "markdown",
      "source": [
        "# count = 1 변수 선언\n",
        "# 1부터 5까지 증가하는 값 생성"
      ],
      "metadata": {
        "id": "dqJUjdbiwY2F"
      }
    },
    {
      "cell_type": "code",
      "execution_count": 4,
      "metadata": {
        "colab": {
          "base_uri": "https://localhost:8080/"
        },
        "id": "ya42iCsIufez",
        "outputId": "0876b1af-355a-4e30-af7a-f3bbafd7a880"
      },
      "outputs": [
        {
          "output_type": "stream",
          "name": "stdout",
          "text": [
            "1\n",
            "2\n",
            "3\n",
            "4\n",
            "5\n",
            "end\n"
          ]
        }
      ],
      "source": [
        "count = 1\n",
        "\n",
        "while count <= 5 :\n",
        "  print(count)\n",
        "  count = count + 1\n",
        "\n",
        "print(\"end\")"
      ]
    }
  ]
}